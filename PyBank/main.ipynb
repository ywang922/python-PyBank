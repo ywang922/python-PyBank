{
 "cells": [
  {
   "cell_type": "code",
   "execution_count": 1,
   "metadata": {},
   "outputs": [
    {
     "name": "stdout",
     "output_type": "stream",
     "text": [
      "Financial Analysis\n",
      "----------------------------\n",
      "Total Months: 86\n",
      "Total: $ 38382578\n",
      "Avereage  Change: $ -2315.12\n",
      "Greatest Increase in Profits: Feb-2012 ($ 1926159 )\n",
      "Greatest Decrease in Profits: Sep-2013 ($ -2196167 )\n"
     ]
    }
   ],
   "source": [
    "import csv\n",
    "\n",
    "csvfile = (\"budget_data.csv\")\n",
    "\n",
    "\n",
    "with open(csvfile) as profit_losses_data:\n",
    "    reader = csv.reader(profit_losses_data)\n",
    "\n",
    "    \n",
    "    next(reader) \n",
    "    profits = []\n",
    "    date = []\n",
    "    avg_change = []\n",
    "\n",
    "    \n",
    "    for row in reader:\n",
    "\n",
    "        profits.append(int(row[1]))\n",
    "        date.append(row[0])\n",
    "\n",
    "    print(\"Financial Analysis\")\n",
    "    print(\"----------------------------\")\n",
    "    print(\"Total Months:\", len(date))\n",
    "    print(\"Total: $\", sum(profits))\n",
    "\n",
    "\n",
    "    \n",
    "    for i in range(1,len(profits)):\n",
    "        \n",
    "        avg_change.append(profits[i] - profits[i-1])   \n",
    "        avg_profit = sum(avg_change)/len(avg_change)\n",
    "\n",
    "        max_increase = max(avg_change)\n",
    "        min_decrease = min(avg_change)\n",
    "\n",
    "        max_increase_month = str(date[avg_change.index(max(avg_change))+1]) \n",
    "        min_decrease_month = str(date[avg_change.index(min(avg_change))+1]) \n",
    "        \n",
    "        \n",
    "          \n",
    "    print(\"Avereage  Change: $\", round(avg_profit,2))\n",
    "    print(\"Greatest Increase in Profits:\", max_increase_month,\"($\", max_increase,\")\")\n",
    "    print(\"Greatest Decrease in Profits:\", min_decrease_month,\"($\", min_decrease,\")\")"
   ]
  },
  {
   "cell_type": "code",
   "execution_count": null,
   "metadata": {},
   "outputs": [],
   "source": []
  },
  {
   "cell_type": "code",
   "execution_count": null,
   "metadata": {},
   "outputs": [],
   "source": []
  },
  {
   "cell_type": "code",
   "execution_count": null,
   "metadata": {},
   "outputs": [],
   "source": [
    " "
   ]
  }
 ],
 "metadata": {
  "kernelspec": {
   "display_name": "Python 3",
   "language": "python",
   "name": "python3"
  },
  "language_info": {
   "codemirror_mode": {
    "name": "ipython",
    "version": 3
   },
   "file_extension": ".py",
   "mimetype": "text/x-python",
   "name": "python",
   "nbconvert_exporter": "python",
   "pygments_lexer": "ipython3",
   "version": "3.7.9"
  }
 },
 "nbformat": 4,
 "nbformat_minor": 4
}
